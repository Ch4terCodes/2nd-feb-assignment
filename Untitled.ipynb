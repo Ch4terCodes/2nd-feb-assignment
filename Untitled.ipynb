{
 "cells": [
  {
   "cell_type": "code",
   "execution_count": 1,
   "id": "aebe43da-340d-4d19-823b-eed162fe1404",
   "metadata": {},
   "outputs": [
    {
     "name": "stdout",
     "output_type": "stream",
     "text": [
      "\n",
      "sum of first ten natural number is = 55\n",
      "\n",
      "product of first ten natural number is = 56\n"
     ]
    }
   ],
   "source": [
    "##ANSWER NO. 2##\n",
    "\n",
    "sum=0\n",
    "prod=1\n",
    "i=1\n",
    "while i<=10:\n",
    "    sum=sum+i\n",
    "    prod=prod+i\n",
    "    i=i+1\n",
    "print(\"\\nsum of first ten natural number is =\",sum)\n",
    "print(\"\\nproduct of first ten natural number is =\",prod)"
   ]
  },
  {
   "cell_type": "code",
   "execution_count": null,
   "id": "359622b8-b9e7-4ab5-bc69-057a95c5a8d7",
   "metadata": {},
   "outputs": [
    {
     "name": "stdin",
     "output_type": "stream",
     "text": [
      "enter the total unit consumed in a month\n",
      " 310\n"
     ]
    },
    {
     "name": "stdout",
     "output_type": "stream",
     "text": [
      "total unit is  310\n",
      "total electricity bill will be\t= 1860\n"
     ]
    }
   ],
   "source": [
    "##ANSWER NO. 3##\n",
    "\n",
    "totunit= int(input(\"enter the total unit consumed in a month\\n\"))\n",
    "print(\"total unit is \",totunit)\n",
    "\n",
    "if (totunit <=100):\n",
    "    bill=totunit*4.5\n",
    "    print(\"total electricity bill will be\\t=\",bill)\n",
    "elif (totunit >100 & totunit <=200):\n",
    "    bill=totunit*6\n",
    "    print(\"total electricity bill will be\\t=\",bill)\n",
    "elif(totunit >200 & totunit <=300):\n",
    "    bill=totunit*10\n",
    "    print(\"total electricity bill will be\\t=\",bill)\n",
    "elif(totunit >300):\n",
    "    bill=totunit*20\n",
    "    print(\"total electricity bill will be\\t=\",bill)"
   ]
  },
  {
   "cell_type": "code",
   "execution_count": 2,
   "id": "08588e23-21a3-49cc-ba72-ef88e688368a",
   "metadata": {},
   "outputs": [
    {
     "name": "stdin",
     "output_type": "stream",
     "text": [
      "enter total consumed unit: 310\n"
     ]
    },
    {
     "name": "stdout",
     "output_type": "stream",
     "text": [
      "\n",
      "Electricity bill pay=2250.00: \n"
     ]
    }
   ],
   "source": [
    "##ANSWER NO.3 (part 2)##\n",
    "\n",
    "totunits= int(input(\"enter total consumed unit:\"))\n",
    "if (totunits>0 and totunits <100):\n",
    "    amount=totunits*4.5\n",
    "elif (totunits>100 and totunits <=200):\n",
    "    amount=(100*4.5)+(totunits-100)*6\n",
    "elif(totunits>200 and totunits <=300):\n",
    "    amount=(100*4.5)+(200-100)*6+(totunits-200)*10\n",
    "elif(totunits>300):\n",
    "    amount=(100*4.5)+(200-100)*6+(300-200)*10+(totunits-300)*20\n",
    "else:\n",
    "    print(\"enter valid unit\")\n",
    "print(\"\\nElectricity bill pay=%.2f: \" %amount);"
   ]
  },
  {
   "cell_type": "code",
   "execution_count": 12,
   "id": "12b4dbf2-6964-4a47-9d65-a550717b1f81",
   "metadata": {},
   "outputs": [
    {
     "name": "stdout",
     "output_type": "stream",
     "text": [
      "[1, 2, 3, 4, 5, 6, 7, 8, 9, 10, 11, 12, 13, 14, 15, 16, 17, 18, 19, 20, 21, 22, 23, 24, 25, 26, 27, 28, 29, 30, 31, 32, 33, 34, 35, 36, 37, 38, 39, 40, 41, 42, 43, 44, 45, 46, 47, 48, 49, 50, 51, 52, 53, 54, 55, 56, 57, 58, 59, 60, 61, 62, 63, 64, 65, 66, 67, 68, 69, 70, 71, 72, 73, 74, 75, 76, 77, 78, 79, 80, 81, 82, 83, 84, 85, 86, 87, 88, 89, 90, 91, 92, 93, 94, 95, 96, 97, 98, 99, 100]\n",
      "[1, 8, 27, 64, 125, 216, 343, 512, 729, 1000, 1331, 1728, 2197, 2744, 3375, 4096, 4913, 5832, 6859, 8000, 9261, 10648, 12167, 13824, 15625, 17576, 19683, 21952, 24389, 27000, 29791, 32768, 35937, 39304, 42875, 46656, 50653, 54872, 59319, 64000, 68921, 74088, 79507, 85184, 91125, 97336, 103823, 110592, 117649, 125000, 132651, 140608, 148877, 157464, 166375, 175616, 185193, 195112, 205379, 216000, 226981, 238328, 250047, 262144, 274625, 287496, 300763, 314432, 328509, 343000, 357911, 373248, 389017, 405224, 421875, 438976, 456533, 474552, 493039, 512000, 531441, 551368, 571787, 592704, 614125, 636056, 658503, 681472, 704969, 729000, 753571, 778688, 804357, 830584, 857375, 884736, 912673, 941192, 970299, 1000000]\n",
      "[1, 3, 3, 4, 1, 1, 3, 2, 1, 0, 3, 3, 1, 4, 3, 1, 1, 2, 3, 0, 1, 3, 3, 4, 1, 1, 3, 2, 1, 0, 3, 3, 1, 4, 3, 1, 1, 2, 3, 0, 1, 3, 3, 4, 1, 1, 3, 2, 1, 0, 3, 3, 1, 4, 3, 1, 1, 2, 3, 0, 1, 3, 3, 4, 1, 1, 3, 2, 1, 0, 3, 3, 1, 4, 3, 1, 1, 2, 3, 0, 1, 3, 3, 4, 1, 1, 3, 2, 1, 0, 3, 3, 1, 4, 3, 1, 1, 2, 3, 0]\n"
     ]
    }
   ],
   "source": [
    "##ANSWER NO. 4##\n",
    "\n",
    "newlist=list()\n",
    "\n",
    "for i in range(1,101):\n",
    "    newlist.append(i)\n",
    "    \n",
    "print(newlist)\n",
    "cubelist=list(map(lambda i:i**3,newlist))\n",
    "print(cubelist)\n",
    "a=list(map(lambda i:i%4 or i%5, cubelist))\n",
    "\n",
    "print(a)"
   ]
  },
  {
   "cell_type": "code",
   "execution_count": 13,
   "id": "2ee4e3b1-d55d-4d2b-b626-1d00f95c89f9",
   "metadata": {},
   "outputs": [
    {
     "name": "stdout",
     "output_type": "stream",
     "text": [
      "I\n",
      "A\n",
      "O\n",
      "E\n",
      "O\n",
      "E\n",
      "A\n",
      "A\n",
      "A\n",
      "I\n",
      "E\n",
      "I\n",
      "Nmuber of vowels in the given string is: 12\n"
     ]
    }
   ],
   "source": [
    "##ANSWER NO. 5##\n",
    "\n",
    "s=\" I WANT TO BECOME A DATA SCIENTIST\"\n",
    "vowels=[\"a\",\"A\",\"e\",\"E\",\"i\",\"I\",\"o\",\"O\",\"u\",\"U\"]\n",
    "count=0\n",
    "for i in s:\n",
    "    if i in vowels:\n",
    "        print(i)\n",
    "        count +=1\n",
    "print(\"Nmuber of vowels in the given string is:\",count)"
   ]
  },
  {
   "cell_type": "code",
   "execution_count": 25,
   "id": "cc9dd2d6-f2ec-46dc-aeb5-df364a4cc0d4",
   "metadata": {},
   "outputs": [
    {
     "name": "stdin",
     "output_type": "stream",
     "text": [
      "enter your limit 45\n"
     ]
    },
    {
     "data": {
      "text/plain": [
       "1035"
      ]
     },
     "execution_count": 25,
     "metadata": {},
     "output_type": "execute_result"
    }
   ],
   "source": [
    "## ANSWER NO.1 ##(while loop)\n",
    "\n",
    "n= int(input(\"enter your limit\"))\n",
    "starting_point=0\n",
    "counter=1\n",
    "\n",
    "while counter <=n:\n",
    "   starting_point=starting_point+ counter\n",
    "   counter= counter+1\n",
    "starting_point\n",
    "\n"
   ]
  },
  {
   "cell_type": "code",
   "execution_count": 26,
   "id": "4cbbfbaa-0792-416e-94c6-07de0c992c7d",
   "metadata": {},
   "outputs": [
    {
     "name": "stdout",
     "output_type": "stream",
     "text": [
      "sudh\n",
      "kumar\n",
      "naik\n",
      "execute this if for loops is able to complete itself\n"
     ]
    }
   ],
   "source": [
    "## ANSWER NO.1 (part 2)## (for loop)\n",
    "\n",
    "p=[\"sudh\",\"kumar\",\"krish\",\"naik\"]\n",
    "for i in p:\n",
    "    if i==\"krish\":\n",
    "        continue\n",
    "    print(i)\n",
    "else:\n",
    "    print(\"execute this if for loops is able to complete itself\")"
   ]
  },
  {
   "cell_type": "code",
   "execution_count": null,
   "id": "0fdc4808-0e94-4a45-ad96-7a9551b2b575",
   "metadata": {},
   "outputs": [],
   "source": []
  }
 ],
 "metadata": {
  "kernelspec": {
   "display_name": "Python 3 (ipykernel)",
   "language": "python",
   "name": "python3"
  },
  "language_info": {
   "codemirror_mode": {
    "name": "ipython",
    "version": 3
   },
   "file_extension": ".py",
   "mimetype": "text/x-python",
   "name": "python",
   "nbconvert_exporter": "python",
   "pygments_lexer": "ipython3",
   "version": "3.10.8"
  }
 },
 "nbformat": 4,
 "nbformat_minor": 5
}
